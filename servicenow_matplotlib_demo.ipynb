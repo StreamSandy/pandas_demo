{
 "cells": [
  {
   "cell_type": "markdown",
   "id": "e4608287",
   "metadata": {},
   "source": [
    "# ServiceNow Matplotlib Demo\n",
    "This notebook uses **pandas** and **matplotlib** to visualize a synthetic ServiceNow incident dataset.\n",
    "It generates 10 different charts for analysis.\n"
   ]
  },
  {
   "cell_type": "code",
   "execution_count": null,
   "id": "6e990937",
   "metadata": {},
   "outputs": [],
   "source": [
    "import pandas as pd\n",
    "import numpy as np\n",
    "import matplotlib.pyplot as plt\n",
    "\n",
    "df = pd.read_csv('servicenow_incidents.csv', parse_dates=['opened_at','resolved_at'])\n",
    "df['opened_date'] = df['opened_at'].dt.date\n",
    "df['opened_hour'] = df['opened_at'].dt.hour\n",
    "df['opened_wday'] = df['opened_at'].dt.day_name()\n",
    "\n",
    "# Ensure inline display in Jupyter\n",
    "%matplotlib inline\n"
   ]
  },
  {
   "cell_type": "markdown",
   "id": "a0bf732b",
   "metadata": {},
   "source": [
    "## 1) Incidents by Priority (Bar)"
   ]
  },
  {
   "cell_type": "code",
   "execution_count": null,
   "id": "005ecb7e",
   "metadata": {},
   "outputs": [],
   "source": [
    "counts = df['priority'].value_counts().sort_index()\n",
    "plt.figure()\n",
    "counts.plot(kind='bar')\n",
    "plt.title('Incidents by Priority')\n",
    "plt.xlabel('Priority')\n",
    "plt.ylabel('Count')\n",
    "plt.tight_layout()\n",
    "plt.show()"
   ]
  },
  {
   "cell_type": "markdown",
   "id": "3e0fae55",
   "metadata": {},
   "source": [
    "## 2) Incidents Opened per Day (Line)"
   ]
  },
  {
   "cell_type": "code",
   "execution_count": null,
   "id": "f858e5ee",
   "metadata": {},
   "outputs": [],
   "source": [
    "daily = df.groupby('opened_date').size()\n",
    "plt.figure()\n",
    "daily.plot()\n",
    "plt.title('Incidents Opened per Day')\n",
    "plt.xlabel('Date')\n",
    "plt.ylabel('Count')\n",
    "plt.tight_layout()\n",
    "plt.show()"
   ]
  },
  {
   "cell_type": "markdown",
   "id": "7f06190a",
   "metadata": {},
   "source": [
    "## 3) Mean Time to Resolve by Priority (Bar)"
   ]
  },
  {
   "cell_type": "code",
   "execution_count": null,
   "id": "2475b0db",
   "metadata": {},
   "outputs": [],
   "source": [
    "ttr = df.dropna(subset=['time_to_resolve_minutes']).groupby('priority')['time_to_resolve_minutes'].mean().reindex(['P1','P2','P3','P4'])\n",
    "plt.figure()\n",
    "ttr.plot(kind='bar')\n",
    "plt.title('Mean Time to Resolve (minutes) by Priority')\n",
    "plt.xlabel('Priority')\n",
    "plt.ylabel('Minutes')\n",
    "plt.tight_layout()\n",
    "plt.show()"
   ]
  },
  {
   "cell_type": "markdown",
   "id": "222531c5",
   "metadata": {},
   "source": [
    "## 4) SLA Breach % by Assignment Group (Top 10)"
   ]
  },
  {
   "cell_type": "code",
   "execution_count": null,
   "id": "be97e7ba",
   "metadata": {},
   "outputs": [],
   "source": [
    "sla = (df.groupby('assignment_group')['sla_breached'].mean()*100).sort_values(ascending=False).head(10)\n",
    "plt.figure()\n",
    "sla.plot(kind='bar')\n",
    "plt.title('SLA Breach Percentage by Assignment Group (Top 10)')\n",
    "plt.xlabel('Assignment Group')\n",
    "plt.ylabel('Breach %')\n",
    "plt.tight_layout()\n",
    "plt.show()"
   ]
  },
  {
   "cell_type": "markdown",
   "id": "1342994f",
   "metadata": {},
   "source": [
    "## 5) Incident States by Category (Stacked Bar)"
   ]
  },
  {
   "cell_type": "code",
   "execution_count": null,
   "id": "c54b275c",
   "metadata": {},
   "outputs": [],
   "source": [
    "pivot = pd.pivot_table(df, index='category', columns='state', values='incident_id', aggfunc='count', fill_value=0)\n",
    "pivot = pivot[['New','In Progress','On Hold','Resolved','Closed','Cancelled']]\n",
    "plt.figure()\n",
    "pivot.plot(kind='bar', stacked=True)\n",
    "plt.title('Incident States by Category')\n",
    "plt.xlabel('Category')\n",
    "plt.ylabel('Count')\n",
    "plt.tight_layout()\n",
    "plt.show()"
   ]
  },
  {
   "cell_type": "markdown",
   "id": "50bdbaab",
   "metadata": {},
   "source": [
    "## 6) Heatmap: Opened Hour vs Weekday"
   ]
  },
  {
   "cell_type": "code",
   "execution_count": null,
   "id": "8f6cdcb1",
   "metadata": {},
   "outputs": [],
   "source": [
    "heat = pd.pivot_table(df, index='opened_wday', columns='opened_hour', values='incident_id', aggfunc='count', fill_value=0)\n",
    "heat = heat.reindex(['Monday','Tuesday','Wednesday','Thursday','Friday','Saturday','Sunday'])\n",
    "plt.figure()\n",
    "plt.imshow(heat.values, aspect='auto')\n",
    "plt.xticks(range(len(heat.columns)), heat.columns, rotation=90)\n",
    "plt.yticks(range(len(heat.index)), heat.index)\n",
    "plt.title('Incidents Opened: Hour vs Weekday')\n",
    "plt.colorbar()\n",
    "plt.tight_layout()\n",
    "plt.show()"
   ]
  },
  {
   "cell_type": "markdown",
   "id": "193ddc32",
   "metadata": {},
   "source": [
    "## 7) TTR Distribution by Category (Boxplot)"
   ]
  },
  {
   "cell_type": "code",
   "execution_count": null,
   "id": "74c8d1c2",
   "metadata": {},
   "outputs": [],
   "source": [
    "resolved = df.dropna(subset=['time_to_resolve_minutes'])\n",
    "groups = [resolved.loc[resolved['category']==cat,'time_to_resolve_minutes'] for cat in resolved['category'].unique()]\n",
    "labels = list(resolved['category'].unique())\n",
    "plt.figure()\n",
    "plt.boxplot(groups, labels=labels, showfliers=False)\n",
    "plt.title('Time to Resolve by Category')\n",
    "plt.xlabel('Category')\n",
    "plt.ylabel('Minutes')\n",
    "plt.tight_layout()\n",
    "plt.show()"
   ]
  },
  {
   "cell_type": "markdown",
   "id": "d7f9f43d",
   "metadata": {},
   "source": [
    "## 8) Pareto: Top 10 Configuration Items"
   ]
  },
  {
   "cell_type": "code",
   "execution_count": null,
   "id": "79e33a4d",
   "metadata": {},
   "outputs": [],
   "source": [
    "top = df['configuration_item'].value_counts().head(10)\n",
    "cum = top.cumsum()/top.sum()*100\n",
    "plt.figure()\n",
    "ax = top.plot(kind='bar')\n",
    "ax2 = ax.twinx()\n",
    "ax2.plot(range(len(top)), cum.values, marker='o')\n",
    "ax2.set_ylim(0,100)\n",
    "ax.set_title('Pareto: Top 10 Configuration Items')\n",
    "ax.set_xlabel('Configuration Item')\n",
    "ax.set_ylabel('Count')\n",
    "ax2.set_ylabel('Cumulative %')\n",
    "plt.tight_layout()\n",
    "plt.show()"
   ]
  },
  {
   "cell_type": "markdown",
   "id": "a7dd0674",
   "metadata": {},
   "source": [
    "## 9) Workflow Funnel by State (Bar)"
   ]
  },
  {
   "cell_type": "code",
   "execution_count": null,
   "id": "21c001b1",
   "metadata": {},
   "outputs": [],
   "source": [
    "state_order = ['New','In Progress','On Hold','Resolved','Closed','Cancelled']\n",
    "counts = df['state'].value_counts().reindex(state_order).fillna(0)\n",
    "plt.figure()\n",
    "counts.plot(kind='barh')\n",
    "plt.title('Workflow Funnel by State')\n",
    "plt.xlabel('Count')\n",
    "plt.ylabel('State')\n",
    "plt.tight_layout()\n",
    "plt.show()"
   ]
  },
  {
   "cell_type": "markdown",
   "id": "a6787c81",
   "metadata": {},
   "source": [
    "## 10) First Response Time vs Customer Satisfaction (Scatter)"
   ]
  },
  {
   "cell_type": "code",
   "execution_count": null,
   "id": "b97a2db2",
   "metadata": {},
   "outputs": [],
   "source": [
    "scatter_df = df.dropna(subset=['customer_satisfaction'])\n",
    "plt.figure()\n",
    "plt.scatter(scatter_df['time_to_first_response_minutes'], scatter_df['customer_satisfaction'])\n",
    "plt.title('First Response Time vs CSAT')\n",
    "plt.xlabel('Time to First Response (minutes)')\n",
    "plt.ylabel('CSAT (1-5)')\n",
    "plt.tight_layout()\n",
    "plt.show()"
   ]
  }
 ],
 "metadata": {},
 "nbformat": 4,
 "nbformat_minor": 5
}
